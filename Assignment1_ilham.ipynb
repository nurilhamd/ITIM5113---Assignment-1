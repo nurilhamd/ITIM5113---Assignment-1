{
 "cells": [
  {
   "cell_type": "markdown",
   "metadata": {
    "deletable": false,
    "editable": false,
    "trusted": true
   },
   "source": [
    "# Section 1: Importing and Summarizing Data\n",
    "\n",
    "You can type Python code in the code cells following the instruction cells to solve the exercises. \n",
    "\n",
    "You can also use the IPython Shell interactively. Go to View (on the menubar) and click terminal or press `Ctrl` + ` to open the terminal. Once terminal is open, type py and hit Enter. This will launch interactive python cell. You can write python statements and hit Enter to see the output in the next line in the cell."
   ]
  },
  {
   "cell_type": "markdown",
   "metadata": {},
   "source": [
    "## Exercise 1: Read and explore your data\n",
    "\n",
    "In this lab, you'll explore a dataset containing information on a university's recent graduates for each department stored in `\"recent_grads.csv\"` file. In this exercise, you'll read in this data using Python's `pandas` module.\n",
    "### Instructions\n",
    "\n",
    "- Import `pandas` as `pd`.\n",
    "- Read in the data from `recent_grads_url` (which is a CSV file) and assign it to a variable called `recent_grads`.\n",
    "- Print the shape of `recent_grads`.\n"
   ]
  },
  {
   "cell_type": "code",
   "execution_count": 5,
   "metadata": {},
   "outputs": [
    {
     "name": "stdout",
     "output_type": "stream",
     "text": [
      "(173, 21)\n"
     ]
    }
   ],
   "source": [
    "# Import pandas \n",
    "import pandas as pd\n",
    "\n",
    "# Use pandas to read in recent_grads.csv\n",
    "recent_grads = pd.read_csv(\"C:/Users/ilham/Desktop/ITIM5113 - Big Data/recent_grads.csv\")\n",
    "\n",
    "# Print the shape\n",
    "print(recent_grads.shape)"
   ]
  },
  {
   "cell_type": "markdown",
   "metadata": {},
   "source": [
    "## Exercise 2: Exploring Your Data\n",
    "\n",
    "Now you'll perform some data exploration using the Python `pandas` module. To get a sense of the data, you'll output statistics such as mean, median, count, and percentiles.\n",
    "\n",
    "The DataFrame `recent_grads` is still in your workspace.\n",
    "### Instructions\n",
    "\n",
    "- Print the `.dtypes` of your data so that you know what each column contains.\n",
    "- Output basic summary statistics using a single `pandas` function.\n",
    "- With the same function from before, summary statistics for all columns that aren't of type `object`.\n",
    "\n"
   ]
  },
  {
   "cell_type": "code",
   "execution_count": 6,
   "metadata": {},
   "outputs": [
    {
     "name": "stdout",
     "output_type": "stream",
     "text": [
      "rank                      int64\n",
      "major_code                int64\n",
      "major                    object\n",
      "major_category           object\n",
      "total                     int64\n",
      "sample_size               int64\n",
      "men                       int64\n",
      "women                     int64\n",
      "sharewomen              float64\n",
      "employed                  int64\n",
      "full_time                 int64\n",
      "part_time                 int64\n",
      "full_time_year_round      int64\n",
      "unemployed                int64\n",
      "unemployment_rate       float64\n",
      "median                   object\n",
      "p25th                    object\n",
      "p75th                    object\n",
      "college_jobs              int64\n",
      "non_college_jobs          int64\n",
      "low_wage_jobs             int64\n",
      "dtype: object\n",
      "             rank   major_code          total  sample_size            men  \\\n",
      "count  173.000000   173.000000     173.000000   173.000000     173.000000   \n",
      "mean    87.000000  3879.815029   39167.716763   356.080925   16637.358382   \n",
      "std     50.084928  1687.753140   63354.613919   618.361022   28063.394844   \n",
      "min      1.000000  1100.000000     124.000000     2.000000     119.000000   \n",
      "25%     44.000000  2403.000000    4361.000000    39.000000    2110.000000   \n",
      "50%     87.000000  3608.000000   15058.000000   130.000000    5347.000000   \n",
      "75%    130.000000  5503.000000   38844.000000   338.000000   14440.000000   \n",
      "max    173.000000  6403.000000  393735.000000  4212.000000  173809.000000   \n",
      "\n",
      "               women  sharewomen       employed      full_time      part_time  \\\n",
      "count     173.000000  173.000000     173.000000     173.000000     173.000000   \n",
      "mean    22530.358382    0.522550   31192.763006   26029.306358    8832.398844   \n",
      "std     40966.381219    0.230572   50675.002241   42869.655092   14648.179473   \n",
      "min         0.000000    0.000000       0.000000     111.000000       0.000000   \n",
      "25%      1784.000000    0.339671    3608.000000    3154.000000    1030.000000   \n",
      "50%      8284.000000    0.535714   11797.000000   10048.000000    3299.000000   \n",
      "75%     22456.000000    0.702020   31433.000000   25147.000000    9948.000000   \n",
      "max    307087.000000    0.968954  307933.000000  251540.000000  115172.000000   \n",
      "\n",
      "       full_time_year_round    unemployed  unemployment_rate   college_jobs  \\\n",
      "count            173.000000    173.000000         172.000000     173.000000   \n",
      "mean           19694.427746   2416.329480           0.068587   12322.635838   \n",
      "std            33160.941514   4112.803148           0.029967   21299.868863   \n",
      "min              111.000000      0.000000           0.000000       0.000000   \n",
      "25%             2453.000000    304.000000           0.050723    1675.000000   \n",
      "50%             7413.000000    893.000000           0.068272    4390.000000   \n",
      "75%            16891.000000   2393.000000           0.087599   14444.000000   \n",
      "max           199897.000000  28169.000000           0.177226  151643.000000   \n",
      "\n",
      "       non_college_jobs  low_wage_jobs  \n",
      "count        173.000000     173.000000  \n",
      "mean       13284.497110    3859.017341  \n",
      "std        23789.655363    6944.998579  \n",
      "min            0.000000       0.000000  \n",
      "25%         1591.000000     340.000000  \n",
      "50%         4595.000000    1231.000000  \n",
      "75%        11783.000000    3466.000000  \n",
      "max       148395.000000   48207.000000  \n",
      "             rank   major_code          total  sample_size            men  \\\n",
      "count  173.000000   173.000000     173.000000   173.000000     173.000000   \n",
      "mean    87.000000  3879.815029   39167.716763   356.080925   16637.358382   \n",
      "std     50.084928  1687.753140   63354.613919   618.361022   28063.394844   \n",
      "min      1.000000  1100.000000     124.000000     2.000000     119.000000   \n",
      "25%     44.000000  2403.000000    4361.000000    39.000000    2110.000000   \n",
      "50%     87.000000  3608.000000   15058.000000   130.000000    5347.000000   \n",
      "75%    130.000000  5503.000000   38844.000000   338.000000   14440.000000   \n",
      "max    173.000000  6403.000000  393735.000000  4212.000000  173809.000000   \n",
      "\n",
      "               women  sharewomen       employed      full_time      part_time  \\\n",
      "count     173.000000  173.000000     173.000000     173.000000     173.000000   \n",
      "mean    22530.358382    0.522550   31192.763006   26029.306358    8832.398844   \n",
      "std     40966.381219    0.230572   50675.002241   42869.655092   14648.179473   \n",
      "min         0.000000    0.000000       0.000000     111.000000       0.000000   \n",
      "25%      1784.000000    0.339671    3608.000000    3154.000000    1030.000000   \n",
      "50%      8284.000000    0.535714   11797.000000   10048.000000    3299.000000   \n",
      "75%     22456.000000    0.702020   31433.000000   25147.000000    9948.000000   \n",
      "max    307087.000000    0.968954  307933.000000  251540.000000  115172.000000   \n",
      "\n",
      "       full_time_year_round    unemployed  unemployment_rate   college_jobs  \\\n",
      "count            173.000000    173.000000         172.000000     173.000000   \n",
      "mean           19694.427746   2416.329480           0.068587   12322.635838   \n",
      "std            33160.941514   4112.803148           0.029967   21299.868863   \n",
      "min              111.000000      0.000000           0.000000       0.000000   \n",
      "25%             2453.000000    304.000000           0.050723    1675.000000   \n",
      "50%             7413.000000    893.000000           0.068272    4390.000000   \n",
      "75%            16891.000000   2393.000000           0.087599   14444.000000   \n",
      "max           199897.000000  28169.000000           0.177226  151643.000000   \n",
      "\n",
      "       non_college_jobs  low_wage_jobs  \n",
      "count        173.000000     173.000000  \n",
      "mean       13284.497110    3859.017341  \n",
      "std        23789.655363    6944.998579  \n",
      "min            0.000000       0.000000  \n",
      "25%         1591.000000     340.000000  \n",
      "50%         4595.000000    1231.000000  \n",
      "75%        11783.000000    3466.000000  \n",
      "max       148395.000000   48207.000000  \n"
     ]
    }
   ],
   "source": [
    "# Print .dtypes\n",
    "print(recent_grads.dtypes)\n",
    "\n",
    "# Output summary statistics\n",
    "print(recent_grads.describe())\n",
    "\n",
    "# Exclude data of type object\n",
    "print(recent_grads.describe(exclude=['object']))"
   ]
  },
  {
   "cell_type": "markdown",
   "metadata": {},
   "source": [
    "## Exercise 3: Replacing Missing Values\n",
    "\n",
    "There are some missing values in the dataset that are coded as a string. You'll update these to a value that Python understands as \"missing.\"\n",
    "\n",
    "The list `columns` contains the names of the columns you'll be working with in this exercise.\n",
    "### Instructions\n",
    "\n",
    "- Look at the `dtypes` of the columns in `columns` to make sure that the data is numeric.\n",
    "- It looks like a string is being used to encode missing values. Use the `.unique()` method to figure out what the string is.\n",
    "- Search for missing values in the median, p25th, and p75th columns.\n",
    "- Replace the found missing values with a `NaN` value, using `numpy`'s `np.nan`."
   ]
  },
  {
   "cell_type": "code",
   "execution_count": 7,
   "metadata": {},
   "outputs": [
    {
     "name": "stdout",
     "output_type": "stream",
     "text": [
      "median    object\n",
      "p25th     object\n",
      "p75th     object\n",
      "dtype: object\n",
      "['110000' '75000' '73000' '70000' '65000' 'UN' '62000' '60000' '58000'\n",
      " '57100' '57000' '56000' '54000' '53000' '52000' '51000' '50000' '48000'\n",
      " '47000' '46000' '45000' '44700' '44000' '42000' '41300' '41000' '40100'\n",
      " '40000' '39000' '38400' '38000' '37500' '37400' '37000' '36400' '36200'\n",
      " '36000' '35600' '35000' '34000' '33500' '33400' '33000' '32500' '32400'\n",
      " '32200' '32100' '32000' '31500' '31000' '30500' '30000' '29000' '28000'\n",
      " '27500' '27000' '26000' '25000' '23400' '22000']\n"
     ]
    }
   ],
   "source": [
    "import numpy as np\n",
    "# Names of the columns we're searching for missing values \n",
    "columns = ['median', 'p25th', 'p75th']\n",
    "\n",
    "# Take a look at the dtypes\n",
    "print(recent_grads[columns].dtypes)\n",
    "\n",
    "# Find how missing values are represented\n",
    "print(recent_grads[\"median\"].unique())\n",
    "\n",
    "# Replace missing values with NaN\n",
    "for column in columns:\n",
    "    recent_grads.loc[recent_grads[column] == ' ', column] = np.nan"
   ]
  },
  {
   "cell_type": "markdown",
   "metadata": {},
   "source": [
    "## Exercise 4: Select a Column\n",
    "\n",
    "Python's `pandas` module allows you to select a specific column from a DataFrame, which is especially useful for when you only need to manipulate one piece of data. In this exercise, you'll select the `sharewomen` column, which shows the percentage of women for a given department.\n",
    "\n",
    "The DataFrame `recent_grads` is still in your workspace.\n",
    "### Instructions\n",
    "\n",
    "- Select the `sharewomen` column from `recent_grads` and assign this to a variable named `sw_col`.\n",
    "- Output the first 5 rows of `sw_col`.\n"
   ]
  },
  {
   "cell_type": "code",
   "execution_count": 8,
   "metadata": {},
   "outputs": [
    {
     "name": "stdout",
     "output_type": "stream",
     "text": [
      "0    0.120564\n",
      "1    0.101852\n",
      "2    0.153037\n",
      "3    0.107313\n",
      "4    0.341631\n",
      "Name: sharewomen, dtype: float64\n"
     ]
    }
   ],
   "source": [
    "# Select sharewomen column\n",
    "sw_col = recent_grads['sharewomen']\n",
    "\n",
    "# Output first five rows\n",
    "print(sw_col.head())"
   ]
  },
  {
   "cell_type": "markdown",
   "metadata": {},
   "source": [
    "## Exercise 5: Column Maximum Value\n",
    "\n",
    "Now that you've selected the `sharewomen` column, you'll use `numpy` to output its maximum value.\n",
    "\n",
    "The variable `sw_col` you created in the last exercise is still available in your workspace.\n",
    "### Instructions\n",
    "\n",
    "- Import `numpy` as `np`.\n",
    "- Using a `numpy` built-in function, find the maximum value of the `sharewomen` column and assign this value to the variable `max_sw`.\n",
    "- Print the value of `max_sw`\n"
   ]
  },
  {
   "cell_type": "code",
   "execution_count": 9,
   "metadata": {},
   "outputs": [
    {
     "name": "stdout",
     "output_type": "stream",
     "text": [
      "0.968953683\n"
     ]
    }
   ],
   "source": [
    "# Import numpy\n",
    "\n",
    "\n",
    "# Use max to output maximum values\n",
    "max_sw = np.max(sw_col)\n",
    "\n",
    "# Print column max\n",
    "print(max_sw)"
   ]
  },
  {
   "cell_type": "markdown",
   "metadata": {},
   "source": [
    "## Exercise: Selecting a Row\n",
    "\n",
    "While you know what the maximum percentage of women in a department is, which department is this? You'll output this information by filtering the dataset with `pandas`.\n",
    "\n",
    "The variables `sw_col` and `max_sw` are still in your workspace.\n",
    "### Instructions\n",
    "\n",
    "- Output the row of data for the department that has the largest percentage of women.\n"
   ]
  },
  {
   "cell_type": "code",
   "execution_count": 10,
   "metadata": {},
   "outputs": [
    {
     "name": "stdout",
     "output_type": "stream",
     "text": [
      "     rank  major_code                        major             major_category  \\\n",
      "162   163        5502  ANTHROPOLOGY AND ARCHEOLOGY  Humanities & Liberal Arts   \n",
      "\n",
      "     total  sample_size   men  women  sharewomen  employed  ...  part_time  \\\n",
      "162  38844          247  1167  36422    0.968954     29633  ...      14515   \n",
      "\n",
      "     full_time_year_round  unemployed  unemployment_rate  median  p25th  \\\n",
      "162                 13232        3395           0.102792   28000  20000   \n",
      "\n",
      "     p75th college_jobs  non_college_jobs  low_wage_jobs  \n",
      "162  38000         9805             16693           6866  \n",
      "\n",
      "[1 rows x 21 columns]\n"
     ]
    }
   ],
   "source": [
    "# Output the row containing the maximum percentage of women\n",
    "print(recent_grads[recent_grads['sharewomen'] == max_sw])"
   ]
  },
  {
   "cell_type": "markdown",
   "metadata": {},
   "source": [
    "## Exercise 6: Converting a DataFrame to Numpy Array\n",
    "\n",
    "Since `numpy` is such a powerful Python module, this exercise asks you to convert a `pandas` DataFrame to a `numpy` array to then utilize a statistics metric available through `numpy` in the next exercise.\n",
    "### Instructions\n",
    "\n",
    "- Select the columns `unemployed` and `low_wage_jobs` from `recent_grads`, then convert them to a `numpy` array. Save this as `recent_grads_np`.\n",
    "- Print the type of `recent_grads_np` to see that it is a `numpy` array.\n"
   ]
  },
  {
   "cell_type": "code",
   "execution_count": 11,
   "metadata": {},
   "outputs": [
    {
     "name": "stdout",
     "output_type": "stream",
     "text": [
      "<class 'numpy.ndarray'>\n"
     ]
    }
   ],
   "source": [
    "# Convert to numpy array\n",
    "recent_grads_np = recent_grads[['unemployed', 'low_wage_jobs']].to_numpy()\n",
    "\n",
    "\n",
    "# Print the type of recent_grads_np\n",
    "print(type(recent_grads_np))"
   ]
  },
  {
   "cell_type": "markdown",
   "metadata": {},
   "source": [
    "## Exercise 7: Correlation Coefficient\n",
    "\n",
    "You have some suspicion that there's a relationship between the `low_wage_jobs` and `unemployment_rate` columns, so you decide to use `numpy` to calculate the correlation coefficient.\n",
    "### Instructions\n",
    "\n",
    "- Calculate the correlation matrix of the `numpy` array `recent_grads_np`.\n"
   ]
  },
  {
   "cell_type": "code",
   "execution_count": 12,
   "metadata": {},
   "outputs": [
    {
     "name": "stdout",
     "output_type": "stream",
     "text": [
      "[[1.         0.95538815]\n",
      " [0.95538815 1.        ]]\n"
     ]
    }
   ],
   "source": [
    "# Calculate correlation matrix\n",
    "print(np.corrcoef(recent_grads_np[:, 0], recent_grads_np[:, 1]))"
   ]
  },
  {
   "cell_type": "markdown",
   "metadata": {},
   "source": [
    "# Section 2: Manipulating Data"
   ]
  },
  {
   "cell_type": "markdown",
   "metadata": {},
   "source": [
    "## Exercise 1: Creating Columns I\n",
    "\n",
    "If you look at the dataset, you'll notice that while there's a column which shows the percentage of women in each department, there is no column which shows the percentage of men.\n",
    "### Instructions\n",
    "\n",
    "- Create a new column named `sharemen`, that contains the percentage of men for a given department by dividing the number of men by the total number of students for each department.\n"
   ]
  },
  {
   "cell_type": "code",
   "execution_count": 13,
   "metadata": {},
   "outputs": [],
   "source": [
    "# Add sharemen column\n",
    "recent_grads['sharemen'] = 1 - recent_grads['sharewomen']"
   ]
  },
  {
   "cell_type": "markdown",
   "metadata": {},
   "source": [
    "## Exercise 2: Select Row with Highest Value\n",
    "\n",
    "Remember how you found the row of data with the highest percentage of women? Now you'll find the row that corresponds to the department with the highest rate of men.\n",
    "\n",
    "The module `numpy` has been imported under the alias `np` for you.\n",
    "### Instructions\n",
    "\n",
    "- Using numpy, find the maximum value for the percentage of men and call this variable max_men.\n",
    "- Select the row that has the percentage of men which corresponds to max_men.\n"
   ]
  },
  {
   "cell_type": "code",
   "execution_count": 14,
   "metadata": {},
   "outputs": [
    {
     "name": "stdout",
     "output_type": "stream",
     "text": [
      "    rank  major_code                                   major major_category  \\\n",
      "65    66        2599  MISCELLANEOUS ENGINEERING TECHNOLOGIES    Engineering   \n",
      "\n",
      "    total  sample_size  men  women  sharewomen  employed  ...  \\\n",
      "65   8804          125  124      0         0.0      7502  ...   \n",
      "\n",
      "    full_time_year_round  unemployed  unemployment_rate  median  p25th  p75th  \\\n",
      "65                  5825         416           0.052539   40000  30400  56000   \n",
      "\n",
      "   college_jobs non_college_jobs  low_wage_jobs  sharemen  \n",
      "65         2446             3896            386       1.0  \n",
      "\n",
      "[1 rows x 22 columns]\n"
     ]
    }
   ],
   "source": [
    "import numpy as np\n",
    "# Find the maximum percentage value of men\n",
    "max_men = recent_grads['sharemen'].max()\n",
    " \n",
    "# Output the row with the highest percentage of men\n",
    "print(recent_grads[recent_grads['sharemen'] == max_men])"
   ]
  },
  {
   "cell_type": "markdown",
   "metadata": {},
   "source": [
    "## Exercise 3: Creating columns II\n",
    "\n",
    "Eventually you want to figure out which departments are most balanced between men and women. To accomplish this, you'll add a new column that reports the difference in percentages between men and women.\n",
    "### Instructions\n",
    "\n",
    "- Add a column named `gender_diff` that reports how much higher the rate of women is than the rate of men.\n"
   ]
  },
  {
   "cell_type": "code",
   "execution_count": 15,
   "metadata": {},
   "outputs": [],
   "source": [
    "# Add gender_diff column\n",
    "recent_grads['gender_diff'] = recent_grads['sharewomen'] - recent_grads['sharemen']\n"
   ]
  },
  {
   "cell_type": "markdown",
   "metadata": {},
   "source": [
    "## Exercise 4: Updating columns\n",
    "\n",
    "Your data for the `gender_diff` column currently consists of negative and positive values, which depend on which group of people (women or men) have a higher percentage. You want to find the five departments with the most balanced gender ratios, but first you decide to make your life easier by replacing the values in the `gender_diff` column with their respective absolute values.\n",
    "### Instructions\n",
    "\n",
    "- Use `numpy` and `pandas` to convert each value in the `gender_diff` column to its absolute value.\n",
    "- Output the five departments with the most balanced gender ratios.\n"
   ]
  },
  {
   "cell_type": "code",
   "execution_count": 16,
   "metadata": {},
   "outputs": [
    {
     "name": "stdout",
     "output_type": "stream",
     "text": [
      "     rank  major_code                                   major  \\\n",
      "65     66        2599  MISCELLANEOUS ENGINEERING TECHNOLOGIES   \n",
      "162   163        5502             ANTHROPOLOGY AND ARCHEOLOGY   \n",
      "164   165        2307               EARLY CHILDHOOD EDUCATION   \n",
      "52     53        4005        MATHEMATICS AND COMPUTER SCIENCE   \n",
      "138   139        2304                    ELEMENTARY EDUCATION   \n",
      "\n",
      "                major_category   total  sample_size    men   women  \\\n",
      "65                 Engineering    8804          125    124       0   \n",
      "162  Humanities & Liberal Arts   38844          247   1167   36422   \n",
      "164                  Education   37589          342   1225   37054   \n",
      "52     Computers & Mathematics     609            7    803   10320   \n",
      "138                  Education  170862         1629  13029  157833   \n",
      "\n",
      "     sharewomen  employed  ...  unemployed  unemployment_rate  median  p25th  \\\n",
      "65     0.000000      7502  ...         416           0.052539   40000  30400   \n",
      "162    0.968954     29633  ...        3395           0.102792   28000  20000   \n",
      "164    0.967998     32551  ...        1360           0.040105   28000  21000   \n",
      "52     0.927807       559  ...           0           0.000000   42000  30000   \n",
      "138    0.923745    149339  ...        7297           0.046586   32000  23400   \n",
      "\n",
      "     p75th college_jobs non_college_jobs low_wage_jobs  sharemen  gender_diff  \n",
      "65   56000         2446             3896           386  1.000000     1.000000  \n",
      "162  38000         9805            16693          6866  0.031046     0.937907  \n",
      "164  35000        23515             7705          2868  0.032002     0.935996  \n",
      "52   78000          452               67            25  0.072193     0.855614  \n",
      "138  38000       108085            36972         11502  0.076255     0.847491  \n",
      "\n",
      "[5 rows x 23 columns]\n"
     ]
    }
   ],
   "source": [
    "# Make all gender difference values positive\n",
    "recent_grads['gender_diff'] = np.abs(recent_grads['gender_diff'])\n",
    "\n",
    "# Find the 5 rows with lowest gender rate difference\n",
    "print(recent_grads.nlargest(5, 'gender_diff'))"
   ]
  },
  {
   "cell_type": "markdown",
   "metadata": {},
   "source": [
    "## Exercise 5: Filtering rows\n",
    "\n",
    "Finally you can filter out for departments which fail the benchmark of a difference of more than 0.30. Since all the values are now positive, you can do this with a simple boolean operator.\n",
    "\n",
    "You want to find the rows containing departments that are skewed heavily towards men. Using work you've already done, you'll create a new DataFrame that contains this information.\n",
    "\n",
    "The DataFrame `recent_grads` still has the columns `sharemen` and `gender_diff` that you created in previous exercises.\n",
    "### Instructions\n",
    "\n",
    "- Create `diff_30`, a boolean `Series` that is `True` when the corresponding value of `gender_diff` is greater than `0.30` and `False` otherwise.\n",
    "- Make another boolean Series called `more_men` that's true when the corresponding row in `recent_grads` has more men than women.\n",
    "- Combine your two `Series` to make one that you can use to select rows that have both more men than women and a value of `gender_diff` greater than 0.30. Save the result as `more_men_and_diff_30`.\n",
    "- Use this new boolean `Series` to create the DataFrame `fewer_women` that contains only the rows you're interested in."
   ]
  },
  {
   "cell_type": "code",
   "execution_count": 17,
   "metadata": {},
   "outputs": [],
   "source": [
    "# Rows where gender rate difference is greater than .30 \n",
    "diff_30 = recent_grads['gender_diff'] > .30\n",
    "\n",
    "# Rows with more men\n",
    "more_men = recent_grads['sharemen'] > .50\n",
    "\n",
    "# Combine more_men and diff_30\n",
    "more_men_and_diff_30 = np.logical_and(more_men, diff_30)\n",
    "\n",
    "# Find rows with more men and and gender rate difference greater than .30\n",
    "fewer_women = recent_grads[more_men_and_diff_30]"
   ]
  },
  {
   "cell_type": "markdown",
   "metadata": {},
   "source": [
    "## Exercise 6: Grouping with Counts\n",
    "\n",
    "There are various department categories but no sense of how many departments there are in each category. You'll use `pandas` to gain insight into this information.\n",
    "\n",
    "In particular, you'll use the `.groupby()` method of `pandas`. This was not introduced to you in the course, but you'll see it very frequently in your data science journey and it's an important method to understand. This set of exercises will extend your `pandas` knowledge by teaching you how to use the `.groupby()` method.\n",
    "\n",
    "Calls to `.groupby()` have the following three components: the column you want to group, the column you want to aggregate, and the statistic you want to aggregate by. For example, in our dataset, if we wanted to see the percentage of women (`'sharewomen'`) per `'major_category'`, we could leverage a `.groupby` like so: `recent_grads.groupby('major_category')['sharewomen'].mean()`. Here, we are grouping by `'major_category'`, and aggregating `'sharewomen'` by the mean. Give it a try in the IPython Shell if you're curious to see the result!\n",
    "### Instructions\n",
    "\n",
    "\n",
    "- Using the `.groupby()` method, group the `recent_grads` DataFrame by `'major_category'` and then count the number of departments per category using `.count()`.\n",
    "\n"
   ]
  },
  {
   "cell_type": "code",
   "execution_count": 18,
   "metadata": {},
   "outputs": [
    {
     "name": "stdout",
     "output_type": "stream",
     "text": [
      "major_category\n",
      "Agriculture & Natural Resources        10\n",
      "Arts                                    8\n",
      "Biology & Life Science                 14\n",
      "Business                               13\n",
      "Communications & Journalism             4\n",
      "Computers & Mathematics                11\n",
      "Education                              16\n",
      "Engineering                            29\n",
      "Health                                 12\n",
      "Humanities & Liberal Arts              15\n",
      "Industrial Arts & Consumer Services     7\n",
      "Interdisciplinary                       1\n",
      "Law & Public Policy                     5\n",
      "Physical Sciences                      10\n",
      "Psychology & Social Work                9\n",
      "Social Science                          9\n",
      "Name: major_category, dtype: int64\n"
     ]
    }
   ],
   "source": [
    "# Group by major category and count\n",
    "print(recent_grads.groupby(['major_category']).major_category.count())"
   ]
  },
  {
   "cell_type": "markdown",
   "metadata": {},
   "source": [
    "## Exercise 7: Grouping with Counts, Part 2\n",
    "\n",
    "You want to get a sense of the number of majors with a lot less women, so you'll perform a similar operation as the one from the last exercise.\n",
    "\n",
    "Use the `fewer_women` DataFrame from a previous exercise.\n",
    "### Instructions\n",
    "\n",
    "- Create a DataFrame that groups the departments by major category and shows the number of departments that are skewed in women.\n",
    "\n"
   ]
  },
  {
   "cell_type": "code",
   "execution_count": 19,
   "metadata": {},
   "outputs": [
    {
     "name": "stdout",
     "output_type": "stream",
     "text": [
      "major_category\n",
      "Agriculture & Natural Resources         1\n",
      "Biology & Life Science                  1\n",
      "Business                                6\n",
      "Communications & Journalism             1\n",
      "Computers & Mathematics                 5\n",
      "Engineering                            24\n",
      "Health                                  1\n",
      "Humanities & Liberal Arts               1\n",
      "Industrial Arts & Consumer Services     3\n",
      "Law & Public Policy                     3\n",
      "Physical Sciences                       1\n",
      "Social Science                          1\n",
      "Name: major_category, dtype: int64\n"
     ]
    }
   ],
   "source": [
    "# Group departments that have less women by category and count\n",
    "print(fewer_women.groupby('major_category')['major_category'].count())"
   ]
  },
  {
   "cell_type": "markdown",
   "metadata": {},
   "source": [
    "## Exercise 8: Grouping One Column with Means\n",
    "\n",
    "Similar to the exercise you just completed, you can group rows to output the means of different groups within a column.\n",
    "\n",
    "The column `gender_diff` is still available in the `recent_grads` DataFrame.\n",
    "### Instructions\n",
    "\n",
    "- Write code that outputs the average gender percentage difference by major category.\n"
   ]
  },
  {
   "cell_type": "code",
   "execution_count": 20,
   "metadata": {},
   "outputs": [
    {
     "name": "stdout",
     "output_type": "stream",
     "text": [
      "major_category\n",
      "Agriculture & Natural Resources        0.346799\n",
      "Arts                                   0.259144\n",
      "Biology & Life Science                 0.296905\n",
      "Business                               0.350740\n",
      "Communications & Journalism            0.482560\n",
      "Computers & Mathematics                0.468733\n",
      "Education                              0.415442\n",
      "Engineering                            0.528308\n",
      "Health                                 0.378798\n",
      "Humanities & Liberal Arts              0.417325\n",
      "Industrial Arts & Consumer Services    0.350490\n",
      "Interdisciplinary                      0.009206\n",
      "Law & Public Policy                    0.400821\n",
      "Physical Sciences                      0.280674\n",
      "Psychology & Social Work               0.583837\n",
      "Social Science                         0.167048\n",
      "Name: gender_diff, dtype: float64\n"
     ]
    }
   ],
   "source": [
    "# Report average gender difference by major category\n",
    "print(recent_grads.groupby('major_category')['gender_diff'].mean())"
   ]
  },
  {
   "cell_type": "markdown",
   "metadata": {},
   "source": [
    "## Exercise 9: Grouping Two Columns with Means\n",
    "\n",
    "You can expand the previous operation to include two columns and output the means for each. To accomplish this, modify the code you just wrote.\n",
    "Instructions\n",
    "\n",
    "- Write a query that outputs the mean number of `'low_wage_jobs'` and average `'unemployment_rate'` grouped by `'major_category'`.\n"
   ]
  },
  {
   "cell_type": "code",
   "execution_count": 21,
   "metadata": {},
   "outputs": [
    {
     "name": "stdout",
     "output_type": "stream",
     "text": [
      "                                     low_wage_jobs  unemployment_rate\n",
      "major_category                                                       \n",
      "Agriculture & Natural Resources         789.900000           0.056328\n",
      "Arts                                   7514.500000           0.090173\n",
      "Biology & Life Science                 3053.000000           0.060918\n",
      "Business                               9752.923077           0.071064\n",
      "Communications & Journalism           12398.750000           0.075538\n",
      "Computers & Mathematics                1466.909091           0.084256\n",
      "Education                              2554.375000           0.051702\n",
      "Engineering                             864.793103           0.063334\n",
      "Health                                 2605.833333           0.065920\n",
      "Humanities & Liberal Arts              6282.666667           0.081008\n",
      "Industrial Arts & Consumer Services    3798.571429           0.056083\n",
      "Interdisciplinary                      1061.000000           0.070861\n",
      "Law & Public Policy                    4144.000000           0.090805\n",
      "Physical Sciences                      1407.800000           0.046511\n",
      "Psychology & Social Work               6249.555556           0.072065\n",
      "Social Science                         6020.000000           0.095729\n"
     ]
    },
    {
     "name": "stderr",
     "output_type": "stream",
     "text": [
      "C:\\Users\\ilham\\AppData\\Local\\Temp\\ipykernel_2240\\4254180986.py:2: FutureWarning: Indexing with multiple keys (implicitly converted to a tuple of keys) will be deprecated, use a list instead.\n",
      "  dept_stats = recent_grads.groupby(['major_category'])['low_wage_jobs', 'unemployment_rate'].mean()\n"
     ]
    }
   ],
   "source": [
    "# Find average number of low wage jobs and unemployment rate of each major category\n",
    "dept_stats = recent_grads.groupby(['major_category'])['low_wage_jobs', 'unemployment_rate'].mean()\n",
    "print(dept_stats)"
   ]
  },
  {
   "cell_type": "markdown",
   "metadata": {},
   "source": [
    "# Section 3: Visualizing Data"
   ]
  },
  {
   "cell_type": "markdown",
   "metadata": {},
   "source": [
    "## Exercise 1: Plotting Scatterplots\n",
    "\n",
    "Now that you've calculated the correlation coefficient between the `low_wage_jobs` and `unemployment_rate` columns, you want to create a visualization to effectively display this relationship. You'll use `matplotlib` to create a scatterplot of these two columns.\n",
    "\n",
    "The DataFrame `dept_stats` is available in your workspace again, and the columns `low_wage_jobs` and `unemployment_rate` have been extracted into variables of the same name.\n",
    "### Instructions\n",
    "\n",
    "- Import `matplotlib.pyplot` with the alias `plt`.\n",
    "- Create a scatter plot between `unemployment_rate` and `low_wage_jobs` per major category.\n",
    "- Label the x axis with `'Unemployment rate'`.\n",
    "- Label the y axis with `'Low pay jobs'`.\n",
    "\n"
   ]
  },
  {
   "cell_type": "code",
   "execution_count": 23,
   "metadata": {},
   "outputs": [
    {
     "data": {
      "image/png": "[encoded data removed]",
      "text/plain": [
       "<Figure size 640x480 with 1 Axes>"
      ]
     },
     "metadata": {},
     "output_type": "display_data"
    }
   ],
   "source": [
    "low_wage_jobs = recent_grads['low_wage_jobs']\n",
    "unemployment_rate = recent_grads['unemployment_rate']\n",
    "# Import matplotlib\n",
    "import matplotlib.pyplot as plt\n",
    "\n",
    "# Create scatter plot\n",
    "plt.scatter(unemployment_rate, low_wage_jobs)\n",
    "\n",
    "# Label x axis\n",
    "plt.xlabel('Unemployment rate')\n",
    "\n",
    "# Label y axis\n",
    "plt.ylabel('Low pay jobs')\n",
    "\n",
    "# Display the graph \n",
    "plt.show()"
   ]
  },
  {
   "cell_type": "markdown",
   "metadata": {},
   "source": [
    "# Exercise 2: Modifying Plot Colors\n",
    "\n",
    "The default settings for `matplotlib` may not be what you hope to present to others, so you decide to customize your plot for low wages versus unemployment rate.\n",
    "\n",
    "Use the `pandas` DataFrame `dept_stats` again.\n",
    "### Instructions\n",
    "\n",
    "- Create the scatterplot visualization between the unemployment rate and number of low wage jobs per major category using the `.plot()` method.\n",
    "- Customize this scatterplot so that the points are red triangles by setting the `color` argument to `\"r\"` and the marker argument `^`.\n",
    "- Display the plot you've created!\n",
    "\n"
   ]
  },
  {
   "cell_type": "code",
   "execution_count": 24,
   "metadata": {},
   "outputs": [
    {
     "data": {
      "image/png": "[encoded data removed]",
      "text/plain": [
       "<Figure size 640x480 with 1 Axes>"
      ]
     },
     "metadata": {},
     "output_type": "display_data"
    }
   ],
   "source": [
    "# Plot the red and triangle shaped scatter plot  \n",
    "dept_stats.plot(x='unemployment_rate', y='low_wage_jobs', kind='scatter', color='r', marker='^')\n",
    "\n",
    "# Display the visualization\n",
    "plt.show()"
   ]
  },
  {
   "cell_type": "markdown",
   "metadata": {},
   "source": [
    "## Exercise 3: Plotting Histograms\n",
    "\n",
    "Now that you've taken a look at that scatterplot, you want to go back to the `sharewomen` column that you were working with earlier. Specifically, you want to get an idea of how the values of `sharewomen` are distributed. This means you want to plot a histogram. For your convenience, the `sharewomen` column has been extracted from the recent_grads DataFrame into a variable called `sharewomen`.\n",
    "\n",
    "### Instructions\n",
    "\n",
    "- Use `matplotlib` to create a histogram of `sharewomen`.\n",
    "- Show the plot you created.\n"
   ]
  },
  {
   "cell_type": "code",
   "execution_count": 25,
   "metadata": {},
   "outputs": [
    {
     "data": {
      "image/png": "[encoded data removed]",
      "text/plain": [
       "<Figure size 640x480 with 1 Axes>"
      ]
     },
     "metadata": {},
     "output_type": "display_data"
    }
   ],
   "source": [
    "sharewomen = recent_grads['sharewomen']\n",
    "# Plot a histogram of sharewomen\n",
    "plt.hist(sharewomen)\n",
    "\n",
    "# Show the plot\n",
    "plt.show()"
   ]
  },
  {
   "cell_type": "markdown",
   "metadata": {},
   "source": [
    "## Exercise 4: Plotting with pandas\n",
    "\n",
    "In Python, there are several different ways to create visualizations. In fact, `pandas` has its own visualization capabilities, all of which are built on top of `matplotlib`! For example, you could have created the histogram from the previous exercise using `recent_grads.sharewomen(kind=\"hist\")` instead of `plt.hist(recent_grads.sharewomen)`.\n",
    "\n",
    "Which approach you prefer comes down to personal preference - when working with DataFrames, it is advantageous to use `pandas`' plotting capabilities because the code tends to be less verbose.\n",
    "\n",
    "Here, you will practice creating the plots from the previous exercises using `pandas` instead of `matplotlib`. All `pandas` plots are created using the `.plot()` method on a DataFrame. Inside `.plot()`, you can specify which plot you want to create using the `kind` parameter. For example, `kind= 'hist'` would create a histogram, `kind='scatter'` would create a scatter plot, and so on.\n",
    "### Instructions\n",
    "- Use the `.plot()` method with `kind='scatter'` on the `dept_stats` DataFrame to create a scatter plot with `'unemployment_rate'` on the x-axis and `'low_wage_jobs'` on the y-axis.\n",
    "\n",
    "- Now, create a histogram of the `sharewomen` column of the `recent_grads` DataFrame. "
   ]
  },
  {
   "cell_type": "code",
   "execution_count": 26,
   "metadata": {},
   "outputs": [
    {
     "data": {
      "image/png": "[encoded data removed]",
      "text/plain": [
       "<Figure size 640x480 with 1 Axes>"
      ]
     },
     "metadata": {},
     "output_type": "display_data"
    },
    {
     "data": {
      "image/png": "[encoded data removed]",
      "text/plain": [
       "<Figure size 640x480 with 1 Axes>"
      ]
     },
     "metadata": {},
     "output_type": "display_data"
    }
   ],
   "source": [
    "# Import matplotlib and pandas\n",
    "import matplotlib.pyplot as plt\n",
    "import pandas as pd\n",
    "\n",
    "# Create scatter plot\n",
    "dept_stats.plot(kind='scatter', x='unemployment_rate', y='low_wage_jobs')\n",
    "plt.show()\n",
    "\n",
    "# Create histogram\n",
    "recent_grads.sharewomen.plot(kind='hist')\n",
    "plt.show()"
   ]
  },
  {
   "cell_type": "markdown",
   "metadata": {},
   "source": [
    "## Congratulations\n",
    "\n",
    "You did it! You have successfully completed the exercises. \n",
    "\n",
    "Save your work by pressing `Ctrl + s` and head over to the next video in the course.\n",
    "\n",
    "Don't forget to Turn Off the Lab. Remember - Don't shut down the machine, but click on the x icon on top right to close the lab session."
   ]
  }
 ],
 "metadata": {
  "kernelspec": {
   "display_name": "Python 3.8.5 64-bit",
   "metadata": {
    "interpreter": {
     "hash": "1baa965d5efe3ac65b79dfc60c0d706280b1da80fedb7760faf2759126c4f253"
    }
   },
   "name": "python3"
  },
  "language_info": {
   "codemirror_mode": {
    "name": "ipython",
    "version": 3
   },
   "file_extension": ".py",
   "mimetype": "text/x-python",
   "name": "python",
   "nbconvert_exporter": "python",
   "pygments_lexer": "ipython3",
   "version": "3.11.2"
  },
  "orig_nbformat": 2
 },
 "nbformat": 4,
 "nbformat_minor": 2
}
